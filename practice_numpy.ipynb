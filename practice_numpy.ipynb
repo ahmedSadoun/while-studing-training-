{
  "nbformat": 4,
  "nbformat_minor": 0,
  "metadata": {
    "colab": {
      "name": "practice numpy.ipynb",
      "provenance": [],
      "authorship_tag": "ABX9TyOdOZoSakrkfG3th23lUh/l",
      "include_colab_link": true
    },
    "kernelspec": {
      "name": "python3",
      "display_name": "Python 3"
    },
    "language_info": {
      "name": "python"
    }
  },
  "cells": [
    {
      "cell_type": "markdown",
      "metadata": {
        "id": "view-in-github",
        "colab_type": "text"
      },
      "source": [
        "<a href=\"https://colab.research.google.com/github/ahmedSadoun/while-studing-training-/blob/main/practice_numpy.ipynb\" target=\"_parent\"><img src=\"https://colab.research.google.com/assets/colab-badge.svg\" alt=\"Open In Colab\"/></a>"
      ]
    },
    {
      "cell_type": "code",
      "metadata": {
        "colab": {
          "base_uri": "https://localhost:8080/"
        },
        "id": "O_WpbKVtOAtC",
        "outputId": "12acf39a-1a9d-4003-8476-c4fbb08347da"
      },
      "source": [
        "\n",
        "name=input('plz enter ur name : ')\n",
        "age=input('plz enter ur age : ')\n",
        "hudred=100-int(age)\n",
        "print('hi '+name+'you will turn 100 after '+str(hudred))\n"
      ],
      "execution_count": null,
      "outputs": [
        {
          "output_type": "stream",
          "text": [
            "plz enter ur name : ahmed\n",
            "plz enter ur age : 23\n",
            "hi ahmedyou will turn 100 after 77\n"
          ],
          "name": "stdout"
        }
      ]
    },
    {
      "cell_type": "markdown",
      "metadata": {
        "id": "6MQidSuel3Tm"
      },
      "source": [
        "the link of the blog i follow : \n",
        "https://www.analyticsvidhya.com/blog/2020/04/the-ultimate-numpy-tutorial-for-data-science-beginners/"
      ]
    },
    {
      "cell_type": "code",
      "metadata": {
        "id": "gQMM9zqoP3tv",
        "colab": {
          "base_uri": "https://localhost:8080/"
        },
        "outputId": "5294d16b-4788-4fdf-bdf0-1cdc86622ca8"
      },
      "source": [
        "import numpy as np\n",
        "print(np.__version__)\n",
        "print(np.show_config())"
      ],
      "execution_count": null,
      "outputs": [
        {
          "output_type": "stream",
          "text": [
            "1.19.5\n",
            "blas_mkl_info:\n",
            "  NOT AVAILABLE\n",
            "blis_info:\n",
            "  NOT AVAILABLE\n",
            "openblas_info:\n",
            "    libraries = ['openblas', 'openblas']\n",
            "    library_dirs = ['/usr/local/lib']\n",
            "    language = c\n",
            "    define_macros = [('HAVE_CBLAS', None)]\n",
            "blas_opt_info:\n",
            "    libraries = ['openblas', 'openblas']\n",
            "    library_dirs = ['/usr/local/lib']\n",
            "    language = c\n",
            "    define_macros = [('HAVE_CBLAS', None)]\n",
            "lapack_mkl_info:\n",
            "  NOT AVAILABLE\n",
            "openblas_lapack_info:\n",
            "    libraries = ['openblas', 'openblas']\n",
            "    library_dirs = ['/usr/local/lib']\n",
            "    language = c\n",
            "    define_macros = [('HAVE_CBLAS', None)]\n",
            "lapack_opt_info:\n",
            "    libraries = ['openblas', 'openblas']\n",
            "    library_dirs = ['/usr/local/lib']\n",
            "    language = c\n",
            "    define_macros = [('HAVE_CBLAS', None)]\n",
            "None\n"
          ],
          "name": "stdout"
        }
      ]
    },
    {
      "cell_type": "code",
      "metadata": {
        "colab": {
          "base_uri": "https://localhost:8080/"
        },
        "id": "esbgmZQoQhM6",
        "outputId": "c8f9b3cf-ca60-4b97-b91f-912360098757"
      },
      "source": [
        "print(np.info(np.add))"
      ],
      "execution_count": null,
      "outputs": [
        {
          "output_type": "stream",
          "text": [
            "None\n"
          ],
          "name": "stdout"
        }
      ]
    },
    {
      "cell_type": "code",
      "metadata": {
        "colab": {
          "base_uri": "https://localhost:8080/"
        },
        "id": "xHR5ezB2Szy6",
        "outputId": "a0932f1b-30f6-4a18-af31-35412b3be5f9"
      },
      "source": [
        "#check if the array contains zero or not \n",
        "array=np.arange(0,6)\n",
        "print(array.size)\n",
        "print(np.all(array))\n",
        "x=True\n",
        "for s in range(array.size):\n",
        "  if array[s] / 1 == 0 :\n",
        "    x=False\n",
        "if x ==False : \n",
        "  print('the array contains zero')\n"
      ],
      "execution_count": null,
      "outputs": [
        {
          "output_type": "stream",
          "text": [
            "6\n",
            "False\n",
            "the array contains zero\n"
          ],
          "name": "stdout"
        }
      ]
    },
    {
      "cell_type": "code",
      "metadata": {
        "colab": {
          "base_uri": "https://localhost:8080/"
        },
        "id": "Se3FHC4qWvya",
        "outputId": "d6da2c89-3347-40a2-a00f-8ea23ca2f373"
      },
      "source": [
        "#check wether a number of an array in non zero \n",
        "zeroArray=[0,0,1,0,0]\n",
        "print(zeroArray)\n",
        "nonZeroItems=np.count_nonzero(zeroArray)\n",
        "if nonZeroItems == 0 :\n",
        "  print('non zero items found')\n",
        "else:\n",
        "  print('zero items found ')"
      ],
      "execution_count": null,
      "outputs": [
        {
          "output_type": "stream",
          "text": [
            "[0, 0, 1, 0, 0]\n",
            "zero items found \n"
          ],
          "name": "stdout"
        }
      ]
    },
    {
      "cell_type": "code",
      "metadata": {
        "colab": {
          "base_uri": "https://localhost:8080/"
        },
        "id": "vz9z7MD8arF6",
        "outputId": "4294f535-6f9c-4e2b-9515-0b55732364da"
      },
      "source": [
        "a=np.array([1,2,np.nan,np.nan])\n",
        "print(a)\n",
        "print(np.isfinite(a))"
      ],
      "execution_count": null,
      "outputs": [
        {
          "output_type": "stream",
          "text": [
            "[ 1.  2. nan nan]\n",
            "[ True  True False False]\n"
          ],
          "name": "stdout"
        }
      ]
    },
    {
      "cell_type": "code",
      "metadata": {
        "colab": {
          "base_uri": "https://localhost:8080/"
        },
        "id": "afnMCvJvbmkd",
        "outputId": "b4a088be-d124-48fa-fb17-9b76523c161f"
      },
      "source": [
        "#check if the array has a nan values \n",
        "a=np.array([1,0,np.nan,np.nan])\n",
        "print(np.isnan(a))"
      ],
      "execution_count": null,
      "outputs": [
        {
          "output_type": "stream",
          "text": [
            "[False False  True  True]\n"
          ],
          "name": "stdout"
        }
      ]
    },
    {
      "cell_type": "code",
      "metadata": {
        "colab": {
          "base_uri": "https://localhost:8080/"
        },
        "id": "HN8yC671cERP",
        "outputId": "0ed8ed3b-72f4-4950-8df8-014e00985076"
      },
      "source": [
        "arr=np.array([1+1j,1+0j,4.5,3,2j])\n",
        "print(np.isreal(arr))"
      ],
      "execution_count": null,
      "outputs": [
        {
          "output_type": "stream",
          "text": [
            "[False  True  True  True False]\n"
          ],
          "name": "stdout"
        }
      ]
    },
    {
      "cell_type": "code",
      "metadata": {
        "colab": {
          "base_uri": "https://localhost:8080/"
        },
        "id": "xtbr2IbefRSS",
        "outputId": "04208682-7f8d-4e58-be1a-5f60d563c22d"
      },
      "source": [
        "one=np.arange(6)\n",
        "two=np.arange(6)\n",
        "np.equal(one,two)"
      ],
      "execution_count": null,
      "outputs": [
        {
          "output_type": "execute_result",
          "data": {
            "text/plain": [
              "array([ True,  True,  True,  True,  True,  True])"
            ]
          },
          "metadata": {
            "tags": []
          },
          "execution_count": 48
        }
      ]
    },
    {
      "cell_type": "code",
      "metadata": {
        "colab": {
          "base_uri": "https://localhost:8080/"
        },
        "id": "zAHW17-viSSI",
        "outputId": "92948e7c-a9a3-4ee0-bea8-a79a54de5b0d"
      },
      "source": [
        "'''Write a NumPy program to create an element-wise comparison \n",
        "(greater, greater_equal, less and less_equal) of two given arrays.\n",
        "'''\n",
        "x = np.array([3, 5])\n",
        "y = np.array([2, 5])\n",
        "print(np.greater(x,y))\n",
        "print(np.greater_equal(x,y))\n",
        "print(np.less(x,y))\n",
        "print(np.less_equal(x,y))"
      ],
      "execution_count": null,
      "outputs": [
        {
          "output_type": "stream",
          "text": [
            "[ True False]\n",
            "[ True  True]\n",
            "[False False]\n",
            "[False  True]\n"
          ],
          "name": "stdout"
        }
      ]
    },
    {
      "cell_type": "code",
      "metadata": {
        "id": "3dI-EIru3xkL"
      },
      "source": [
        "import numpy as np\n"
      ],
      "execution_count": null,
      "outputs": []
    },
    {
      "cell_type": "code",
      "metadata": {
        "colab": {
          "base_uri": "https://localhost:8080/"
        },
        "id": "D2EjhaoP33j6",
        "outputId": "b07b46ba-136a-4d24-9582-e55da53631a6"
      },
      "source": [
        "#it creates a random n dimension ndarray from 0 to 1\n",
        "np.random.rand(2,3,3)"
      ],
      "execution_count": null,
      "outputs": [
        {
          "output_type": "execute_result",
          "data": {
            "text/plain": [
              "array([[[0.8354067 , 0.096269  , 0.45685004],\n",
              "        [0.32922109, 0.53063688, 0.749603  ],\n",
              "        [0.02915137, 0.86320336, 0.81637914]],\n",
              "\n",
              "       [[0.79219777, 0.49559885, 0.16884452],\n",
              "        [0.14635863, 0.40031024, 0.37840208],\n",
              "        [0.4702705 , 0.79926585, 0.70294065]]])"
            ]
          },
          "metadata": {
            "tags": []
          },
          "execution_count": 4
        }
      ]
    },
    {
      "cell_type": "code",
      "metadata": {
        "colab": {
          "base_uri": "https://localhost:8080/"
        },
        "id": "cscMnjGN4N9-",
        "outputId": "7a5db62f-b3c4-4041-87c0-6aa5c67aaeb4"
      },
      "source": [
        "'''Or, in fact, you can create an array filled with any given value using the np.full() method. \n",
        "Just pass in the shape of the desired array and the value you want:'''\n",
        "np.full((2,2),5)"
      ],
      "execution_count": null,
      "outputs": [
        {
          "output_type": "execute_result",
          "data": {
            "text/plain": [
              "array([[5, 5],\n",
              "       [5, 5]])"
            ]
          },
          "metadata": {
            "tags": []
          },
          "execution_count": 5
        }
      ]
    },
    {
      "cell_type": "code",
      "metadata": {
        "id": "JLDRU4UH4ykK",
        "colab": {
          "base_uri": "https://localhost:8080/"
        },
        "outputId": "cc48fa49-d22d-4e24-8caf-72c979f04cfa"
      },
      "source": [
        "''' \n",
        "Another great method is np.eye() that returns an array with 1s along its diagonal and 0s everywhere else.\n",
        "'''\n",
        "#identity matrix \n",
        "np.eye(3)"
      ],
      "execution_count": null,
      "outputs": [
        {
          "output_type": "execute_result",
          "data": {
            "text/plain": [
              "array([[1., 0., 0.],\n",
              "       [0., 1., 0.],\n",
              "       [0., 0., 1.]])"
            ]
          },
          "metadata": {
            "tags": []
          },
          "execution_count": 7
        }
      ]
    },
    {
      "cell_type": "code",
      "metadata": {
        "colab": {
          "base_uri": "https://localhost:8080/"
        },
        "id": "r-gMNGXo9LWC",
        "outputId": "a04fd985-db6a-4886-92bf-4aa9c6a10915"
      },
      "source": [
        "''' \n",
        "However, NumPy gives you the flexibility to change the diagonal along which the values have to be 1s. You can either move it above the main diagonal:\n",
        "''' \n",
        "np.eye(3,k=2)"
      ],
      "execution_count": null,
      "outputs": [
        {
          "output_type": "execute_result",
          "data": {
            "text/plain": [
              "array([[0., 0., 1.],\n",
              "       [0., 0., 0.],\n",
              "       [0., 0., 0.]])"
            ]
          },
          "metadata": {
            "tags": []
          },
          "execution_count": 8
        }
      ]
    },
    {
      "cell_type": "code",
      "metadata": {
        "colab": {
          "base_uri": "https://localhost:8080/"
        },
        "id": "K6iqjrceYnA_",
        "outputId": "e855947d-7698-4ab1-8d40-de4457f152f5"
      },
      "source": [
        "# 5 is the start number , 8 is the stop number , 1 is the step\n",
        "np.arange(5,8,1)"
      ],
      "execution_count": null,
      "outputs": [
        {
          "output_type": "execute_result",
          "data": {
            "text/plain": [
              "array([5, 6, 7])"
            ]
          },
          "metadata": {
            "tags": []
          },
          "execution_count": 2
        }
      ]
    },
    {
      "cell_type": "code",
      "metadata": {
        "colab": {
          "base_uri": "https://localhost:8080/"
        },
        "id": "RF1vH-EvZPgJ",
        "outputId": "85c7896b-1802-4246-9e8b-d1007b7fe2d2"
      },
      "source": [
        "''' \n",
        "Another similar function is np.linspace(), but instead of step size, it takes in the number of samples that need to be retrieved from the interval. \n",
        "A point to note here is that the last number is included in the values returned unlike in the case of np.arange().\n",
        "'''\n",
        "# 0 start number , 1 stop , 5 is how many numbers i need between the two interval \n",
        "np.linspace(0,1,5)"
      ],
      "execution_count": null,
      "outputs": [
        {
          "output_type": "execute_result",
          "data": {
            "text/plain": [
              "array([0.  , 0.25, 0.5 , 0.75, 1.  ])"
            ]
          },
          "metadata": {
            "tags": []
          },
          "execution_count": 3
        }
      ]
    },
    {
      "cell_type": "code",
      "metadata": {
        "colab": {
          "base_uri": "https://localhost:8080/"
        },
        "id": "rknpfxcIZPdU",
        "outputId": "d620a973-d62a-4c4a-9605-11f26ea67a46"
      },
      "source": [
        "#You can easily determine the number of dimensions or axes of a NumPy array using the ndims attribute:\n",
        "a=np.array([np.arange(5),np.arange(5)])\n",
        "np.ndim(a)\n",
        "print('the shape ', a.shape)\n",
        "print('rows', a.shape[0])\n",
        "print('columns', a.shape[1])\n",
        "#it returns the number of the values in the np array\n",
        "print('the size', a.size)\n",
        "print('this how to calculate the np array size manually : ',a.shape[0]*a.shape[1])"
      ],
      "execution_count": null,
      "outputs": [
        {
          "output_type": "stream",
          "text": [
            "the shape  (2, 5)\n",
            "rows 2\n",
            "columns 5\n",
            "the size 10\n",
            "this how to calculate the np array size manually :  10\n"
          ],
          "name": "stdout"
        }
      ]
    },
    {
      "cell_type": "code",
      "metadata": {
        "id": "CknFJ-VhZPaL",
        "colab": {
          "base_uri": "https://localhost:8080/"
        },
        "outputId": "dce2ce5d-26ad-4740-8b9c-071014274206"
      },
      "source": [
        "'''\n",
        "Reshaping a ndarray can be done using the np.reshape() method. It changes the shape of the ndarray without changing the data within the ndarray:\n",
        "'''\n",
        "s=np.array([1,2,3,4])\n",
        "s.reshape((2,2))\n",
        "#or \n",
        "np.reshape(s,(2,2))"
      ],
      "execution_count": null,
      "outputs": [
        {
          "output_type": "execute_result",
          "data": {
            "text/plain": [
              "array([[1, 2],\n",
              "       [3, 4]])"
            ]
          },
          "metadata": {
            "tags": []
          },
          "execution_count": 12
        }
      ]
    },
    {
      "cell_type": "code",
      "metadata": {
        "id": "ZfZjgMA4ZPXY",
        "colab": {
          "base_uri": "https://localhost:8080/"
        },
        "outputId": "c2177a7e-1359-4f95-c316-5cb8af1b0896"
      },
      "source": [
        "'''\n",
        "While reshaping, if you are unsure about the shape of any of the axis, just input -1. NumPy automatically calculates the shape when it sees a -1:\n",
        "'''\n",
        "np.reshape(s,(2,-1))"
      ],
      "execution_count": null,
      "outputs": [
        {
          "output_type": "execute_result",
          "data": {
            "text/plain": [
              "array([[1, 2],\n",
              "       [3, 4]])"
            ]
          },
          "metadata": {
            "tags": []
          },
          "execution_count": 13
        }
      ]
    },
    {
      "cell_type": "code",
      "metadata": {
        "id": "tLlaEcHTZPUf",
        "colab": {
          "base_uri": "https://localhost:8080/"
        },
        "outputId": "a49a0d21-b1ad-45df-a021-536707cc528d"
      },
      "source": [
        "'''Sometimes when you have a multidimensional array and want to collapse it to a single-dimensional array, \n",
        "you can either use the flatten() method or the ravel() method:'''\n",
        "\n",
        "a=np.ones((2,2))\n",
        "a\n",
        "a.flatten()\n",
        "'''But an important difference between flatten() and ravel() is that the former returns a copy of the original array while the latter returns a reference to the original array. \n",
        "This means any changes made to the array returned from ravel() will also be reflected in the original array while this will not be the case with flatten().\n",
        "What is happening here is that flatten() creates a Deep copy of the ndarray while ravel() creates a Shallow copy of the ndarray.\n",
        "\n",
        "Deep copy means that a completely new ndarray is created in memory and the ndarray object returned by flatten() is now pointing to this memory location.\n",
        "Therefore, any changes made here will not be reflected in the original ndarray.\n",
        "\n",
        "A Shallow copy, on the other hand, returns a reference to the original memory location. Meaning the object returned by ravel() is pointing to the same memory location as the original ndarray object. \n",
        "So, definitely, any changes made to this ndarray will also be reflected in the original ndarray too.\n",
        "'''"
      ],
      "execution_count": null,
      "outputs": [
        {
          "output_type": "execute_result",
          "data": {
            "text/plain": [
              "array([[1., 1.],\n",
              "       [1., 1.]])"
            ]
          },
          "metadata": {
            "tags": []
          },
          "execution_count": 9
        }
      ]
    },
    {
      "cell_type": "markdown",
      "metadata": {
        "id": "o_pHQbeGjNsk"
      },
      "source": [
        "Another very interesting reshaping method of NumPy is the transpose() method. It takes the input array and swaps the rows with the column values, and the column values with the values of the rows:**bold text**"
      ]
    },
    {
      "cell_type": "code",
      "metadata": {
        "id": "Djr625sdZPR3",
        "colab": {
          "base_uri": "https://localhost:8080/"
        },
        "outputId": "5fcc9c76-dddb-4094-a722-82330ecfd3a2"
      },
      "source": [
        "matrix=np.array([[np.arange(3)],[np.arange(3,6)]])\n",
        "print(matrix)\n",
        "t_matrix=np.transpose(matrix)\n",
        "print('_______________________')\n",
        "print(t_matrix)"
      ],
      "execution_count": null,
      "outputs": [
        {
          "output_type": "stream",
          "text": [
            "[[[0 1 2]]\n",
            "\n",
            " [[3 4 5]]]\n",
            "_______________________\n",
            "[[[0 3]]\n",
            "\n",
            " [[1 4]]\n",
            "\n",
            " [[2 5]]]\n"
          ],
          "name": "stdout"
        }
      ]
    },
    {
      "cell_type": "markdown",
      "metadata": {
        "id": "nVPYup2_jqXE"
      },
      "source": [
        "Expanding a NumPy array\n",
        "You can add a new axis to an array using the expand_dims() method by providing the array and the axis along which to expand:"
      ]
    },
    {
      "cell_type": "code",
      "metadata": {
        "id": "2sUS6t_0ZPOt",
        "colab": {
          "base_uri": "https://localhost:8080/"
        },
        "outputId": "af34cb9b-8369-4ad6-faf9-7dccdfea2f41"
      },
      "source": [
        "a=np.array([1,2,3])\n",
        "print(a)\n",
        "#axis = 0 means expand along column dimension \n",
        "#axis =1 means expand along rows dimension\n",
        "'''\n",
        "فكرة زيادة محور .. عندي الاراي بتكون مجموعة ارقام ملهاش محور معين \n",
        "ف الما اعمل اكسباند دايمنشن ف انا ب امسك الارقام دي احطها علي محور معين \n",
        "صفر علشان احطها ع المحور الافقي يعني اعمدة \n",
        "واحد يعني احطهم علي المحور العمودي يعني صفوف\n",
        "'''\n",
        "s=np.expand_dims(a,axis=0)\n",
        "print(s)"
      ],
      "execution_count": null,
      "outputs": [
        {
          "output_type": "stream",
          "text": [
            "[1 2 3]\n",
            "[[1 2 3]]\n"
          ],
          "name": "stdout"
        }
      ]
    },
    {
      "cell_type": "markdown",
      "metadata": {
        "id": "dL8cnlWAkmy0"
      },
      "source": [
        "**Squeezing a NumPy array:**\n",
        "On the other hand, if you instead want to reduce the axis of the array, use the squeeze() method. It removes the axis that has a single entry. This means if you have created a 2 x 2 x 1 matrix, squeeze() will remove the third dimension from the matrix:"
      ]
    },
    {
      "cell_type": "code",
      "metadata": {
        "id": "Txl6wtPdZPMH",
        "colab": {
          "base_uri": "https://localhost:8080/"
        },
        "outputId": "07fd2a2e-4358-4534-d044-910873c0d789"
      },
      "source": [
        "'''\n",
        "squeeze \n",
        "دا بيقلل ال دايمنشن .. يعني بيكون عندي مجموعة قيم ماتريكس \n",
        "محطوتين ف 3 ابعاد و لكن البعد التالت مش موجود ليه قيم \n",
        "ف انا ب اعمل ضغط ب اشيل بيه البعد التالت \n",
        "او بيكون عندي صف قيم بس محطوتين ف بعدين ب اشيل بعد و اخلي واحد\n",
        "'''\n",
        "q=np.array([[[1,2,3],[4,5,6]]])\n",
        "print(q)\n",
        "print('______________________')\n",
        "print(np.squeeze(q,axis=0))\n",
        "n=np.array([[1,2,3]])\n",
        "print('\\n',n)\n",
        "print('_____________________')\n",
        "print(np.squeeze(n,axis=0))\n",
        "\n"
      ],
      "execution_count": null,
      "outputs": [
        {
          "output_type": "stream",
          "text": [
            "[[[1 2 3]\n",
            "  [4 5 6]]]\n",
            "______________________\n",
            "[[1 2 3]\n",
            " [4 5 6]]\n",
            "\n",
            " [[1 2 3]]\n",
            "_____________________\n",
            "[1 2 3]\n"
          ],
          "name": "stdout"
        }
      ]
    },
    {
      "cell_type": "markdown",
      "metadata": {
        "id": "wOD_drVuiLcX"
      },
      "source": [
        "# **Slicing 1-D NumPy arrays**\n",
        "Slicing means retrieving elements from one index to another index. All we have to do is to pass the starting and ending point in the index like this: [start: end].\n",
        "\n",
        "However, you can even take it up a notch by passing the step-size. What is that? Well, suppose you wanted to print every other element from the array, you would define your step-size as 2, meaning get the element 2 places away from the present index.\n",
        "\n",
        "Incorporating all this into a single index would look something like this: [start:end:step-size]."
      ]
    },
    {
      "cell_type": "code",
      "metadata": {
        "id": "yQpH9d9YlugF",
        "colab": {
          "base_uri": "https://localhost:8080/"
        },
        "outputId": "2551eec3-269c-4a82-efb1-962af7f5a438"
      },
      "source": [
        "#           0 1 2 3 4 5 6 7 8\n",
        "s=np.array([1,2,3,4,5,6,7,8,9])\n",
        "#bring from index 1 to 3-1\n",
        "#the default step is 1\n",
        "slic=s[1:3]\n",
        "#the step is 2\n",
        "slic_2=s[1:6:2]\n",
        "#the first index is 0 as default \n",
        "slic_3=s[:6]\n",
        "print(slic,\"\\n\\n\",slic_2)\n"
      ],
      "execution_count": null,
      "outputs": [
        {
          "output_type": "stream",
          "text": [
            "[2 3] \n",
            "\n",
            " [2 4 6]\n"
          ],
          "name": "stdout"
        }
      ]
    },
    {
      "cell_type": "markdown",
      "metadata": {
        "id": "L_6G8Y9hksFF"
      },
      "source": [
        "# **Slicing 2-D NumPy arrays**\n",
        "Now, a 2-D array has rows and columns so it can get a little tricky to slice 2-D arrays. But once you understand it, you can slice any dimension array!\n",
        "\n",
        "Before learning how to slice a 2-D array, let’s have a look at how to retrieve an element from a 2-D array:"
      ]
    },
    {
      "cell_type": "code",
      "metadata": {
        "colab": {
          "base_uri": "https://localhost:8080/"
        },
        "id": "qvjxtHLHiKtQ",
        "outputId": "d94d932d-1cc5-44af-aa98-5f20fbf37be5"
      },
      "source": [
        "v=np.array([[1,2,3],[4,5,6]])\n",
        "print(v,'\\n')\n",
        "#Here, we provided the row value and column value to identify the element we wanted to extract\n",
        "print(v[0,0])\n",
        "print(v[0,1])\n",
        "print('##########################################\\n')\n",
        "#   rows      column\n",
        "#v[from : to , from:to]\n",
        "print(v[0:1,0:3])\n"
      ],
      "execution_count": null,
      "outputs": [
        {
          "output_type": "stream",
          "text": [
            "[[1 2 3]]\n"
          ],
          "name": "stdout"
        }
      ]
    },
    {
      "cell_type": "markdown",
      "metadata": {
        "id": "Nhmx3ogwo5qn"
      },
      "source": [
        "\n",
        "## Slicing 3-D NumPy arrays\n",
        "So far we haven’t seen a 3-D array. Let’s first visualize how a 3-D array looks like:"
      ]
    },
    {
      "cell_type": "code",
      "metadata": {
        "colab": {
          "base_uri": "https://localhost:8080/"
        },
        "id": "C7qz9VhZiKp4",
        "outputId": "c9cfe475-dc36-41b6-ca2c-84d9126da2b3"
      },
      "source": [
        "ddd=np.array([[\n",
        "               [1,2],[3,4],[5,6]],\n",
        "          [[16,7],[8,9],[10,11]],\n",
        "          [[12,13],[14,15],[16,17]]])\n",
        "ddd"
      ],
      "execution_count": null,
      "outputs": [
        {
          "output_type": "execute_result",
          "data": {
            "text/plain": [
              "array([[[ 1,  2],\n",
              "        [ 3,  4],\n",
              "        [ 5,  6]],\n",
              "\n",
              "       [[16,  7],\n",
              "        [ 8,  9],\n",
              "        [10, 11]],\n",
              "\n",
              "       [[12, 13],\n",
              "        [14, 15],\n",
              "        [16, 17]]])"
            ]
          },
          "metadata": {
            "tags": []
          },
          "execution_count": 37
        }
      ]
    },
    {
      "cell_type": "markdown",
      "metadata": {
        "id": "qWKsslPOq8d_"
      },
      "source": [
        "In addition to the rows and columns, as in a 2-D array, a 3-D array also has a depth axis where it stacks one 2-D array behind the other. So, when you are slicing a 3-D array, you also need to mention which 2-D array you are slicing. This usually comes as the first value in the index:"
      ]
    },
    {
      "cell_type": "code",
      "metadata": {
        "colab": {
          "base_uri": "https://localhost:8080/"
        },
        "id": "HW1KhYL5iKmx",
        "outputId": "4462a604-2165-4674-8cbb-24380380ccd4"
      },
      "source": [
        "'''   define what       define the      define the \n",
        "      matrix we are     rows index      column index\n",
        "      working on                                          '''\n",
        "# ddd[from : to       , 0;1        ,   0:1 ]\n",
        "''' احنا هنا بنحدد كام مصفوفه هنشتغل عليها و بعدين بنحدد الصفوف و بعدين الاعمدة '''\n",
        "print(ddd[0:3,0:1,0:1])"
      ],
      "execution_count": null,
      "outputs": [
        {
          "output_type": "stream",
          "text": [
            "[[[ 1]]\n",
            "\n",
            " [[16]]\n",
            "\n",
            " [[12]]]\n"
          ],
          "name": "stdout"
        }
      ]
    },
    {
      "cell_type": "code",
      "metadata": {
        "colab": {
          "base_uri": "https://localhost:8080/"
        },
        "id": "EeRHmgRyiKit",
        "outputId": "ae7eda2e-1046-4fa0-94ba-304b004f3b54"
      },
      "source": [
        "#create a 3d matrix \n",
        "mat=np.linspace(0,20,18)\n",
        "np.reshape(mat,(3,2,3))\n",
        "#or\n",
        "mat_2=np.arange(0,18,1)\n",
        "resh=np.reshape(mat_2,(3,2,3))\n",
        "resh"
      ],
      "execution_count": null,
      "outputs": [
        {
          "output_type": "execute_result",
          "data": {
            "text/plain": [
              "array([[[ 0,  1,  2],\n",
              "        [ 3,  4,  5]],\n",
              "\n",
              "       [[ 6,  7,  8],\n",
              "        [ 9, 10, 11]],\n",
              "\n",
              "       [[12, 13, 14],\n",
              "        [15, 16, 17]]])"
            ]
          },
          "metadata": {
            "tags": []
          },
          "execution_count": 47
        }
      ]
    },
    {
      "cell_type": "markdown",
      "metadata": {
        "id": "q0eP3watwqz4"
      },
      "source": [
        "# Negative slicing of NumPy arrays\n",
        "An interesting way to slice your array is to use negative slicing. Negative slicing prints elements from the end rather than the beginning. Have a look below:"
      ]
    },
    {
      "cell_type": "code",
      "metadata": {
        "colab": {
          "base_uri": "https://localhost:8080/"
        },
        "id": "vKjE8gR3iKfK",
        "outputId": "4341b499-93e9-4369-cd4c-f7fc69a07dfb"
      },
      "source": [
        "neg_matrix=np.arange(0,16,1)\n",
        "themat=np.reshape(neg_matrix,(4,4\n",
        "                              ))\n",
        "print(themat,'\\n')\n",
        "\n",
        "print(themat[0:2:,-3:-1])\n",
        "#to reverse a matrix \n",
        "#               step\n",
        "print(themat[::-1,::-1])"
      ],
      "execution_count": null,
      "outputs": [
        {
          "output_type": "stream",
          "text": [
            "[[ 0  1  2  3]\n",
            " [ 4  5  6  7]\n",
            " [ 8  9 10 11]\n",
            " [12 13 14 15]] \n",
            "\n",
            "[[1 2]\n",
            " [5 6]]\n",
            "[[15 14 13 12]\n",
            " [11 10  9  8]\n",
            " [ 7  6  5  4]\n",
            " [ 3  2  1  0]]\n"
          ],
          "name": "stdout"
        }
      ]
    },
    {
      "cell_type": "markdown",
      "metadata": {
        "id": "ZwKelBmT0cfq"
      },
      "source": [
        "# Stacking and Concatenating NumPy arrays\n",
        "# Stacking ndarrays\n",
        "You can create a new array by combining existing arrays. This you can do in two ways:\n",
        "\n",
        "Either combine the arrays vertically (i.e. along the rows) using the** vstack()** method, thereby increasing the number of rows in the resulting array.\n",
        "\n",
        "Or combine the arrays in a horizontal fashion (i.e. along the columns) using the **hstack()**, thereby increasing the number of columns in the resultant array."
      ]
    },
    {
      "cell_type": "code",
      "metadata": {
        "id": "bV6iQYuYiKb1",
        "colab": {
          "base_uri": "https://localhost:8080/"
        },
        "outputId": "7c29f053-59de-4c0d-f581-c9aa77e3b94d"
      },
      "source": [
        "firstarray=np.arange(0,5)\n",
        "secondarray=np.arange(5,10)\n",
        "# the two arrays must match in length \n",
        "vstack=np.vstack((firstarray,secondarray))\n",
        "#the two arrays are not necessaty to match in length\n",
        "hstack=np.hstack((firstarray,secondarray))\n",
        "#it combines the two arrays along the third axis . the depth one\n",
        "depthstack=np.dstack((firstarray,secondarray))\n",
        "print(depthstack,'\\n\\n',hstack)"
      ],
      "execution_count": null,
      "outputs": [
        {
          "output_type": "stream",
          "text": [
            "[[[0 5]\n",
            "  [1 6]\n",
            "  [2 7]\n",
            "  [3 8]\n",
            "  [4 9]]] \n",
            "\n",
            " [0 1 2 3 4 5 6 7 8 9]\n"
          ],
          "name": "stdout"
        }
      ]
    },
    {
      "cell_type": "markdown",
      "metadata": {
        "id": "UzzYiOodBvTP"
      },
      "source": [
        "# Concatenating ndarrays\n",
        "While stacking arrays is one way of combining old arrays to get a new one, you could also use the concatenate() method where the passed arrays are joined along an existing axis:"
      ]
    },
    {
      "cell_type": "code",
      "metadata": {
        "id": "J_kc1yoniKZA",
        "colab": {
          "base_uri": "https://localhost:8080/"
        },
        "outputId": "48c65433-c527-41bf-cf67-e61c067171c0"
      },
      "source": [
        "x=np.arange(0,5).reshape(1,5)\n",
        "y=np.arange(5,10).reshape(1,5)\n",
        "#vertical = 0 incresing the number of rows \n",
        "#horizontal=1 increase the number of columns \n",
        "concat=np.concatenate((x,y),axis=1)\n",
        "squeeze=np.squeeze(concat)\n",
        "squeeze"
      ],
      "execution_count": null,
      "outputs": [
        {
          "output_type": "execute_result",
          "data": {
            "text/plain": [
              "array([0, 1, 2, 3, 4, 5, 6, 7, 8, 9])"
            ]
          },
          "metadata": {
            "tags": []
          },
          "execution_count": 25
        }
      ]
    },
    {
      "cell_type": "markdown",
      "metadata": {
        "id": "AQ68fn43GKMF"
      },
      "source": [
        "Another very useful function is the append method that adds new elements to the end of a ndarray. This is obviously useful when you already have an existing ndarray but want to add new values to it."
      ]
    },
    {
      "cell_type": "code",
      "metadata": {
        "id": "_jaZBGBuiKVU",
        "colab": {
          "base_uri": "https://localhost:8080/"
        },
        "outputId": "59f355b6-c953-4e65-acaa-d98ed22cbfbe"
      },
      "source": [
        "arr=np.array([[2,3],[6,7]])\n",
        "print(np.append(arr,[[15,16]],axis=0))"
      ],
      "execution_count": null,
      "outputs": [
        {
          "output_type": "stream",
          "text": [
            "[[ 2  3]\n",
            " [ 6  7]\n",
            " [15 16]]\n"
          ],
          "name": "stdout"
        }
      ]
    },
    {
      "cell_type": "markdown",
      "metadata": {
        "id": "8lofnI7NOJro"
      },
      "source": [
        "# Broadcasting in NumPy arrays – A class apart!\n",
        "Broadcasting is one of the best features of ndarrays. It lets you perform arithmetics operations between ndarrays of different sizes or between an ndarray and a simple number!\n",
        "\n",
        "Broadcasting essentially stretches the smaller ndarray so that it matches the shape of the larger ndarray:"
      ]
    },
    {
      "cell_type": "code",
      "metadata": {
        "id": "wipdHpqviKRq"
      },
      "source": [
        "import numpy as np"
      ],
      "execution_count": null,
      "outputs": []
    },
    {
      "cell_type": "code",
      "metadata": {
        "id": "NI-aqp6CiKOQ",
        "colab": {
          "base_uri": "https://localhost:8080/"
        },
        "outputId": "b030403e-9bb7-4d47-ed69-aa00623b5933"
      },
      "source": [
        "rasn=np.arange(1,5)\n",
        "arr=np.array([[2],[3]])\n",
        "print(rasn+arr)\n",
        "print('\\n\\n',rasn*arr)"
      ],
      "execution_count": null,
      "outputs": [
        {
          "output_type": "stream",
          "text": [
            "[[3 4 5 6]\n",
            " [4 5 6 7]]\n",
            "\n",
            "\n",
            " [[ 2  4  6  8]\n",
            " [ 3  6  9 12]]\n"
          ],
          "name": "stdout"
        }
      ]
    },
    {
      "cell_type": "markdown",
      "metadata": {
        "id": "Q-QfS61ftkeE"
      },
      "source": [
        "You can also easily determine the index of the minimum or maximum value in the ndarray along a particular axis using the argmin() and argmax() methods:"
      ]
    },
    {
      "cell_type": "code",
      "metadata": {
        "id": "ggz9HXQeiKK2",
        "colab": {
          "base_uri": "https://localhost:8080/"
        },
        "outputId": "09d35cb9-b10e-4379-b5ce-5d5bac41b797"
      },
      "source": [
        "a=np.array([[0,1],[31,4]])\n",
        "np.argmax(a,axis=1)\n",
        "np.argmin(a,axis=0)"
      ],
      "execution_count": null,
      "outputs": [
        {
          "output_type": "execute_result",
          "data": {
            "text/plain": [
              "array([0, 0])"
            ]
          },
          "metadata": {
            "tags": []
          },
          "execution_count": 4
        }
      ]
    },
    {
      "cell_type": "markdown",
      "metadata": {
        "id": "Z2BJGVKsw9eV"
      },
      "source": [
        "# Sorting in NumPy arrays\n",
        "For any programmer, the time complexity of any algorithm is of prime essence. Sorting is an important and very basic operation that you might well use on a daily basis as a data scientist. So, it is important to use a good sorting algorithm with minimum time complexity.\n",
        "\n",
        "The NumPy library is a legend when it comes to sorting elements of an array. It has a range of sorting functions that you can use to sort your array elements. It has implemented quicksort, heapsort, mergesort, and timesort for you under the hood when you use the sort() method:"
      ]
    },
    {
      "cell_type": "code",
      "metadata": {
        "id": "3o68O5IqiKIO",
        "colab": {
          "base_uri": "https://localhost:8080/"
        },
        "outputId": "640b8724-7c35-418c-92c7-71fa1436761f"
      },
      "source": [
        "arr=np.array([14,5,4,6,0,7,20,15,88,94,11,1,12])\n",
        "np.sort(arr,kind='quicksort')"
      ],
      "execution_count": null,
      "outputs": [
        {
          "output_type": "execute_result",
          "data": {
            "text/plain": [
              "array([ 0,  1,  4,  5,  6,  7, 11, 12, 14, 15, 20, 88, 94])"
            ]
          },
          "metadata": {
            "tags": []
          },
          "execution_count": 5
        }
      ]
    },
    {
      "cell_type": "code",
      "metadata": {
        "id": "jgucRXDuiKEi",
        "colab": {
          "base_uri": "https://localhost:8080/"
        },
        "outputId": "cdb7775f-b448-466a-959a-51c5f653e1bd"
      },
      "source": [
        "mat=np.array([[1,2,4,8],[7,8,2,1]])\n",
        "#vertical sort\n",
        "np.sort(mat,kind='mergsort',axis=0)\n",
        "#horizontal\n",
        "np.sort(mat,kind='mergsort',axis=1)"
      ],
      "execution_count": null,
      "outputs": [
        {
          "output_type": "execute_result",
          "data": {
            "text/plain": [
              "array([[1, 2, 4, 8],\n",
              "       [1, 2, 7, 8]])"
            ]
          },
          "metadata": {
            "tags": []
          },
          "execution_count": 7
        }
      ]
    },
    {
      "cell_type": "markdown",
      "metadata": {
        "id": "9nImDdNQS-15"
      },
      "source": [
        "# NumPy arrays and Images\n",
        "NumPy arrays find wide use in storing and manipulating image data. But what is image data really?\n",
        "\n",
        "Images are made up of pixels that are stored in the form of an array. Each pixel has a value ranging between 0 to 255 – 0 indicating a black pixel and 255 indicating a white pixel. A colored image consists of three 2-D arrays, one for each of the color channels: Red, Green, and Blue, placed back-to-back thus making a 3-D array. Each value in the array constitutes a pixel value. So, the size of the array depends on the number of pixels along each dimension.\n"
      ]
    },
    {
      "cell_type": "code",
      "metadata": {
        "id": "SlW6g-cUiKBf",
        "colab": {
          "base_uri": "https://localhost:8080/"
        },
        "outputId": "0fd325ea-90e9-402d-de0d-080b8dc8f41f"
      },
      "source": [
        "from scipy import misc\n",
        "import cv2 as cv\n",
        "import matplotlib.pyplot as plt\n",
        "\n",
        "# read image\n",
        "im = cv.imread('/content/Colourful Houses.jpg')\n",
        "#we normalize the image for faster computaions\n",
        "normalize=im/255\n",
        "hflip=np.flip(im,0)\n",
        "plt.imshow(normalize)\n",
        "print(normalize)\n"
      ],
      "execution_count": null,
      "outputs": [
        {
          "output_type": "stream",
          "text": [
            "[[[0.95686275 0.70588235 0.60784314]\n",
            "  [0.94901961 0.69803922 0.6       ]\n",
            "  [0.93333333 0.69411765 0.59215686]\n",
            "  ...\n",
            "  [0.95686275 0.78823529 0.75294118]\n",
            "  [0.95686275 0.78823529 0.75294118]\n",
            "  [0.95294118 0.78431373 0.74901961]]\n",
            "\n",
            " [[0.95686275 0.70588235 0.60784314]\n",
            "  [0.95294118 0.70196078 0.60392157]\n",
            "  [0.9372549  0.69803922 0.59607843]\n",
            "  ...\n",
            "  [0.95294118 0.78431373 0.74901961]\n",
            "  [0.95294118 0.78431373 0.74901961]\n",
            "  [0.95294118 0.78431373 0.74901961]]\n",
            "\n",
            " [[0.95294118 0.70196078 0.60392157]\n",
            "  [0.95294118 0.70196078 0.60392157]\n",
            "  [0.94509804 0.70588235 0.60392157]\n",
            "  ...\n",
            "  [0.95686275 0.78823529 0.75294118]\n",
            "  [0.95686275 0.78823529 0.75294118]\n",
            "  [0.95294118 0.78431373 0.74901961]]\n",
            "\n",
            " ...\n",
            "\n",
            " [[0.43921569 0.69411765 0.7254902 ]\n",
            "  [0.43921569 0.69411765 0.7254902 ]\n",
            "  [0.42352941 0.67843137 0.70980392]\n",
            "  ...\n",
            "  [0.26666667 0.21568627 0.        ]\n",
            "  [0.26666667 0.21568627 0.        ]\n",
            "  [0.26666667 0.21568627 0.        ]]\n",
            "\n",
            " [[0.43921569 0.69411765 0.7254902 ]\n",
            "  [0.42745098 0.68235294 0.71372549]\n",
            "  [0.40784314 0.6627451  0.69411765]\n",
            "  ...\n",
            "  [0.27058824 0.21960784 0.        ]\n",
            "  [0.27058824 0.21960784 0.        ]\n",
            "  [0.26666667 0.21568627 0.        ]]\n",
            "\n",
            " [[0.42352941 0.67843137 0.70980392]\n",
            "  [0.40784314 0.6627451  0.69411765]\n",
            "  [0.4        0.65490196 0.68627451]\n",
            "  ...\n",
            "  [0.27843137 0.22745098 0.00784314]\n",
            "  [0.2745098  0.22352941 0.00392157]\n",
            "  [0.2745098  0.22352941 0.00392157]]]\n"
          ],
          "name": "stdout"
        }
      ]
    },
    {
      "cell_type": "code",
      "metadata": {
        "id": "v7_-6eyjiJ-K"
      },
      "source": [
        ""
      ],
      "execution_count": null,
      "outputs": []
    },
    {
      "cell_type": "code",
      "metadata": {
        "id": "23gv-36ZiJ6y"
      },
      "source": [
        ""
      ],
      "execution_count": null,
      "outputs": []
    }
  ]
}